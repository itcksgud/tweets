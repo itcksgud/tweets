{
 "cells": [
  {
   "cell_type": "code",
   "execution_count": 1,
   "metadata": {},
   "outputs": [
    {
     "name": "stderr",
     "output_type": "stream",
     "text": [
      "c:\\Users\\kingc\\anaconda3\\Lib\\site-packages\\tqdm\\auto.py:21: TqdmWarning: IProgress not found. Please update jupyter and ipywidgets. See https://ipywidgets.readthedocs.io/en/stable/user_install.html\n",
      "  from .autonotebook import tqdm as notebook_tqdm\n"
     ]
    }
   ],
   "source": [
    "#필수 라이브러리 임포트\n",
    "import torch\n",
    "from torch import nn\n",
    "from torch.utils.data import DataLoader, Dataset\n",
    "from transformers import DistilBertModel, DistilBertTokenizer \n",
    "import pandas as pd\n",
    "from sklearn.model_selection import train_test_split\n",
    "from sklearn.metrics import f1_score, confusion_matrix, accuracy_score\n",
    "import numpy as np\n",
    "import re"
   ]
  },
  {
   "cell_type": "code",
   "execution_count": 2,
   "metadata": {},
   "outputs": [],
   "source": [
    "#csv파일에서 df_train 저장\n",
    "df_train = pd.read_csv(r'C:\\Users\\kingc\\Desktop\\ai\\nlp-getting-started\\train.csv')\n",
    "df_real=pd.read_csv(r'C:\\Users\\kingc\\Desktop\\ai\\nlp-getting-started\\test.csv')\n",
    "df_real['target']=0\n",
    "\n",
    "#데이터 전처리\n",
    "def clean_text(text):\n",
    "    text = re.sub(r'http\\S+', '', text)  # URL 제거\n",
    "    text = re.sub(r'@\\w+', '', text)    # 멘션 제거\n",
    "    text = re.sub(r'[^a-zA-Z0-9\\s]', '', text)  # 특수문자 제거\n",
    "    text = text.lower().strip()        # 소문자 변환 및 양쪽 공백 제거\n",
    "    return text\n",
    "\n",
    "df_train['text'] = df_train['text'].apply(clean_text)\n",
    "df_real['text'] = df_real['text'].apply(clean_text)\n",
    "\n"
   ]
  },
  {
   "cell_type": "code",
   "execution_count": 3,
   "metadata": {},
   "outputs": [],
   "source": [
    "#df_train->train, test로 분리\n",
    "train_input, test_input, train_target, test_target = train_test_split(\n",
    "    df_train['text'], df_train['target'], test_size=0.2, random_state=42)\n"
   ]
  },
  {
   "cell_type": "code",
   "execution_count": 4,
   "metadata": {},
   "outputs": [],
   "source": [
    "# 인덱스를 리셋하여 연속적인 숫자로 설정\n",
    "train_input.reset_index(drop=True, inplace=True)\n",
    "train_target.reset_index(drop=True, inplace=True)"
   ]
  },
  {
   "cell_type": "code",
   "execution_count": 5,
   "metadata": {},
   "outputs": [],
   "source": [
    "#데이터셋 클래스 정의\n",
    "class TextDataset(Dataset):\n",
    "    def __init__(self, texts, targets, tokenizer, max_len):\n",
    "        self.texts = texts\n",
    "        self.targets = targets\n",
    "        self.tokenizer = tokenizer\n",
    "        self.max_len = max_len\n",
    "\n",
    "    def __len__(self):\n",
    "        return len(self.texts)\n",
    "\n",
    "    def __getitem__(self, idx):\n",
    "        text = self.texts.iloc[idx]\n",
    "        target = self.targets.iloc[idx]\n",
    "\n",
    "\n",
    "        encoding = self.tokenizer(\n",
    "            text,\n",
    "            max_length=self.max_len,\n",
    "            padding='max_length',\n",
    "            truncation=True,\n",
    "            return_tensors=\"pt\"\n",
    "        )\n",
    "\n",
    "        return {\n",
    "            'input_ids': encoding['input_ids'].squeeze(0), \n",
    "            'attention_mask': encoding['attention_mask'].squeeze(0),\n",
    "            'target': torch.tensor(target, dtype=torch.long)\n",
    "        }\n"
   ]
  },
  {
   "cell_type": "code",
   "execution_count": 6,
   "metadata": {},
   "outputs": [],
   "source": [
    "class DistilbertBinaryClassifier(nn.Module):\n",
    "    def __init__(self, pretrained_model_name='distilbert-base-uncased'):\n",
    "        super(DistilbertBinaryClassifier, self).__init__()\n",
    "        self.distilbert = DistilBertModel.from_pretrained(pretrained_model_name)\n",
    "        self.dropout = nn.Dropout(0.5)  # Dropout 비율을 증가하여 과적합 방지\n",
    "        self.fc = nn.Linear(self.distilbert.config.hidden_size, 1) \n",
    "\n",
    "    def forward(self, input_ids, attention_mask):\n",
    "        outputs = self.distilbert(input_ids=input_ids, attention_mask=attention_mask)\n",
    "        pooled_output = outputs.last_hidden_state[:, 0]  # CLS \n",
    "        dropout_output = self.dropout(pooled_output)\n",
    "        return self.fc(dropout_output)  # 로짓 출력"
   ]
  },
  {
   "cell_type": "code",
   "execution_count": 7,
   "metadata": {},
   "outputs": [],
   "source": [
    "# 하이퍼파라미터 설정\n",
    "PRETRAINED_MODEL_NAME = 'distilbert-base-uncased'\n",
    "MAX_LEN = 160\n",
    "BATCH_SIZE = 16\n",
    "EPOCHS = 2\n",
    "LEARNING_RATE = 2e-5\n",
    "\n",
    "# distilbert 토크나이저 초기화\n",
    "tokenizer =  DistilBertTokenizer.from_pretrained(PRETRAINED_MODEL_NAME)\n",
    "\n",
    "# 데이터셋 준비\n",
    "train_dataset = TextDataset(train_input, train_target, tokenizer, MAX_LEN)\n",
    "test_dataset = TextDataset(test_input, test_target, tokenizer, MAX_LEN)\n",
    "real_dataset = TextDataset(df_real['text'], df_real['target'], tokenizer, MAX_LEN)\n",
    "\n",
    "# 데이터로더 생성\n",
    "train_loader = DataLoader(train_dataset, batch_size=BATCH_SIZE, shuffle=True)\n",
    "test_loader = DataLoader(test_dataset, batch_size=BATCH_SIZE, shuffle=False)\n",
    "real_loader = DataLoader(real_dataset, batch_size=1, shuffle=False)\n",
    "\n",
    "# 모델 초기화\n",
    "device = torch.device(\"cuda\" if torch.cuda.is_available() else \"cpu\")\n",
    "model = DistilbertBinaryClassifier(pretrained_model_name=PRETRAINED_MODEL_NAME)\n",
    "model.to(device)\n",
    "\n",
    "# 손실 함수 및 옵티마이저\n",
    "criterion = nn.BCEWithLogitsLoss()  # 이진 분류 손실 함수\n",
    "optimizer = torch.optim.AdamW(model.parameters(), lr=LEARNING_RATE)\n"
   ]
  },
  {
   "cell_type": "code",
   "execution_count": 8,
   "metadata": {},
   "outputs": [
    {
     "name": "stdout",
     "output_type": "stream",
     "text": [
      "Epoch 1, Loss: 0.4517371957813661\n",
      "TP: 495, TN: 778, FP: 96, FN: 154\n",
      "Epoch 1, Test F1 Score: 0.7984, Accuracy: 0.8359\n",
      "New best F1 Score: 0.7984, Accuracy: 0.8359, Model saved.\n",
      "Epoch 2, Loss: 0.3282721198684587\n",
      "TP: 483, TN: 800, FP: 74, FN: 166\n",
      "Epoch 2, Test F1 Score: 0.8010, Accuracy: 0.8424\n",
      "New best F1 Score: 0.8010, Accuracy: 0.8424, Model saved.\n",
      "Best F1 Score: 0.8010 at Epoch 2\n",
      "Best Accuracy: 0.8424 at Epoch 2\n"
     ]
    }
   ],
   "source": [
    "best_f1 = 0  # 최고의 F1 Score를 저장할 변수\n",
    "best_accuracy = 0  # 최고의 Accuracy를 저장할 변수\n",
    "best_epoch = 0  # 최고의 F1 Score를 기록한 에포크 번호\n",
    "\n",
    "for epoch in range(EPOCHS):\n",
    "    # ====== 학습 단계 ======\n",
    "    model.train()\n",
    "    total_loss = 0\n",
    "    for batch in train_loader:\n",
    "        input_ids = batch['input_ids'].to(device)\n",
    "        attention_mask = batch['attention_mask'].to(device)\n",
    "        targets = batch['target'].to(device).float()  # BCEWithLogitsLoss는 float 입력 필요\n",
    "\n",
    "        optimizer.zero_grad()\n",
    "        outputs = model(input_ids, attention_mask)\n",
    "        loss = criterion(outputs.squeeze(-1), targets)\n",
    "        loss.backward()\n",
    "        optimizer.step()\n",
    "\n",
    "        total_loss += loss.item()\n",
    "\n",
    "    print(f\"Epoch {epoch + 1}, Loss: {total_loss / len(train_loader)}\")\n",
    "\n",
    "    # ====== 평가 단계 ======\n",
    "    model.eval()\n",
    "    all_targets = []\n",
    "    all_predictions = []\n",
    "\n",
    "    with torch.no_grad():\n",
    "        for batch in test_loader:\n",
    "            input_ids = batch['input_ids'].to(device)\n",
    "            attention_mask = batch['attention_mask'].to(device)\n",
    "            targets = batch['target'].to(device)\n",
    "\n",
    "            # 예측값 계산\n",
    "            outputs = model(input_ids, attention_mask)\n",
    "            predictions = torch.sigmoid(outputs).squeeze(-1) > 0.5  # 0.5 기준으로 이진 분류\n",
    "\n",
    "            all_targets.extend(targets.cpu().numpy())\n",
    "            all_predictions.extend(predictions.cpu().numpy())\n",
    "\n",
    "    # F1 Score 및 정확도 계산\n",
    "    f1 = f1_score(all_targets, all_predictions)\n",
    "    tn, fp, fn, tp = confusion_matrix(all_targets, all_predictions).ravel()\n",
    "    print(f\"TP: {tp}, TN: {tn}, FP: {fp}, FN: {fn}\")\n",
    "    accuracy = accuracy_score(all_targets, all_predictions)\n",
    "    print(f\"Epoch {epoch + 1}, Test F1 Score: {f1:.4f}, Accuracy: {accuracy:.4f}\")\n",
    "\n",
    "    \n",
    "\n",
    "    # F1 Score 비교 및 저장\n",
    "    if f1 > best_f1:\n",
    "        best_f1 = f1\n",
    "        best_accuracy = accuracy\n",
    "        best_epoch = epoch + 1\n",
    "        # 모델 저장 (옵션)\n",
    "        torch.save(model.state_dict(), \"best_model.pth\")\n",
    "        print(f\"New best F1 Score: {best_f1:.4f}, Accuracy: {best_accuracy:.4f}, Model saved.\")\n",
    "\n",
    "# 학습 종료 후 최고의 F1 Score와 에포크 출력\n",
    "print(f\"Best F1 Score: {best_f1:.4f} at Epoch {best_epoch}\")\n",
    "print(f\"Best Accuracy: {best_accuracy:.4f} at Epoch {best_epoch}\")"
   ]
  },
  {
   "cell_type": "code",
   "execution_count": 9,
   "metadata": {},
   "outputs": [],
   "source": [
    "# 모델 예측 수행\n",
    "model.eval()\n",
    "all_preds = []\n",
    "\n",
    "with torch.no_grad():  # No gradient computation for prediction\n",
    "    for batch in real_loader:\n",
    "        input_ids = batch['input_ids'].to(device)\n",
    "        attention_mask = batch['attention_mask'].to(device)\n",
    "\n",
    "        # 모델 예측\n",
    "        outputs = model(input_ids, attention_mask)\n",
    "\n",
    "        # 예측을 0 또는 1로 변환 (이진 분류)\n",
    "        preds = torch.round(torch.sigmoid(outputs)).squeeze(-1).cpu().numpy()\n",
    "        all_preds.extend(preds)\n",
    "\n",
    "\n"
   ]
  },
  {
   "cell_type": "code",
   "execution_count": 10,
   "metadata": {},
   "outputs": [],
   "source": [
    "all_preds=list(map(int,all_preds))\n",
    "sample_submission = pd.read_csv(r'C:\\Users\\kingc\\Desktop\\ai\\nlp-getting-started\\sample_submission.csv')\n",
    "sample_submission[\"target\"] = all_preds\n",
    "sample_submission.to_csv(\"submission.csv\", index=False)"
   ]
  }
 ],
 "metadata": {
  "kernelspec": {
   "display_name": "base",
   "language": "python",
   "name": "python3"
  },
  "language_info": {
   "codemirror_mode": {
    "name": "ipython",
    "version": 3
   },
   "file_extension": ".py",
   "mimetype": "text/x-python",
   "name": "python",
   "nbconvert_exporter": "python",
   "pygments_lexer": "ipython3",
   "version": "3.12.7"
  }
 },
 "nbformat": 4,
 "nbformat_minor": 2
}
